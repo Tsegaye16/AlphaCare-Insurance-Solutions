{
 "cells": [
  {
   "cell_type": "markdown",
   "metadata": {},
   "source": [
    "# A/B-Hypothesis Testing"
   ]
  },
  {
   "cell_type": "markdown",
   "metadata": {},
   "source": [
    "**_A/B Testing:_** Conduct experiments to compare different insurance offerings or marketing strategies, evaluating their impact on customer engagement and policy uptake.\n",
    "\n",
    "**_Hypothesis Testing:_** Formulate and test hypotheses to validate assumptions about factors influencing insurance claims and premiums, such as regional preferences or policyholder demographics."
   ]
  },
  {
   "cell_type": "code",
   "execution_count": 1,
   "metadata": {},
   "outputs": [],
   "source": [
    "# Import libraries\n",
    "import pandas as pd\n",
    "import numpy as np\n",
    "import seaborn as sns\n",
    "import matplotlib.pyplot as plt\n",
    "import scipy.stats as stats\n",
    "import os, sys\n",
    "\n",
    "sys.path.append(os.path.abspath(os.path.join('..', 'scripts')))"
   ]
  },
  {
   "cell_type": "code",
   "execution_count": 3,
   "metadata": {},
   "outputs": [],
   "source": [
    "from ab_hypothesis import ABHypothesis"
   ]
  },
  {
   "cell_type": "code",
   "execution_count": 5,
   "metadata": {},
   "outputs": [
    {
     "name": "stderr",
     "output_type": "stream",
     "text": [
      "C:\\Users\\Tsegaye\\AppData\\Local\\Temp\\ipykernel_16236\\1926248573.py:2: DtypeWarning: Columns (32) have mixed types. Specify dtype option on import or set low_memory=False.\n",
      "  df = pd.read_csv('../data/cleaned_data.csv')\n"
     ]
    }
   ],
   "source": [
    "# Load the dataset\n",
    "df = pd.read_csv('../data/cleaned_data.csv')"
   ]
  },
  {
   "cell_type": "code",
   "execution_count": 6,
   "metadata": {},
   "outputs": [
    {
     "name": "stdout",
     "output_type": "stream",
     "text": [
      "----- Risk Differences Across Provinces -----\n",
      "Chi-squared test on Province and TotalPremium: chi2 = 1675877.9839662637, p-value = 0.0\n",
      "Reject the null hypothesis.\n",
      "\n",
      "----- Risk Differences Between Postal Codes -----\n",
      "Chi-squared test on PostalCode and TotalPremium: chi2 = 143288895.37515512, p-value = 0.0\n",
      "Reject the null hypothesis.\n",
      "\n",
      "----- Margin Differences Between Postal Codes -----\n",
      "Z-test on TotalPremium: Z-statistic = -0.3023831651839944, p-value = 0.7623599866851525\n",
      "Fail to reject the null hypothesis.\n",
      "\n",
      "----- Risk Differences Between Women and Men -----\n",
      "T-test on TotalPremium: T-statistic = -0.36532231271147997, p-value = 0.7148723832930138\n",
      "Fail to reject the null hypothesis.\n",
      "\n"
     ]
    }
   ],
   "source": [
    "# Initialize the class with data frame\n",
    "ab_test = ABHypothesis(df)\n",
    "\n",
    "# Run all tests and print results in a human-readable format\n",
    "results = ab_test.run_all_tests()\n",
    "\n",
    "for test_name, result in results.items():\n",
    "    print(f'----- {test_name} -----')\n",
    "    print(result)\n",
    "    print()  "
   ]
  },
  {
   "cell_type": "code",
   "execution_count": null,
   "metadata": {},
   "outputs": [],
   "source": []
  }
 ],
 "metadata": {
  "kernelspec": {
   "display_name": "Python 3",
   "language": "python",
   "name": "python3"
  },
  "language_info": {
   "codemirror_mode": {
    "name": "ipython",
    "version": 3
   },
   "file_extension": ".py",
   "mimetype": "text/x-python",
   "name": "python",
   "nbconvert_exporter": "python",
   "pygments_lexer": "ipython3",
   "version": "3.12.1"
  }
 },
 "nbformat": 4,
 "nbformat_minor": 2
}
